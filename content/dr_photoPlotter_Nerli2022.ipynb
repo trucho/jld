{
  "metadata": {
    "language_info": {
      "codemirror_mode": {
        "name": "python",
        "version": 3
      },
      "file_extension": ".py",
      "mimetype": "text/x-python",
      "name": "python",
      "nbconvert_exporter": "python",
      "pygments_lexer": "ipython3",
      "version": "3.8"
    },
    "kernelspec": {
      "name": "python",
      "display_name": "Pyolite",
      "language": "python"
    }
  },
  "nbformat_minor": 4,
  "nbformat": 4,
  "cells": [
    {
      "cell_type": "markdown",
      "source": "# Explore RNAseq of FAC Sorted retinal cells from 42hpf zebrafish ([Nerli, Rocha-Martins, Norden, 2022](https://www.ncbi.nlm.nih.gov/geo/query/acc.cgi?acc=GSE194158))",
      "metadata": {}
    },
    {
      "cell_type": "markdown",
      "source": "This notebook can be accessed here:  \n[angueyranih.github.io/drRNAseq/lab](angueyranih.github.io/drRNAseq/lab)  \n\n## Norden Lab dataset available at:  \nhttps://www.ncbi.nlm.nih.gov/geo/query/acc.cgi?acc=GSE194158\n\nFrom the authors\n> \"This dataset was acquired to identify the gene expression profile of developing retinal cell types at 42 hours post fertilization (hpf): retinal ganglion cells, photoreceptors, inhibitory neurons (amacrine cells and horizontal cells) and progenitor cells.  \n> Retinal cell types were sorted from dissociated zebrafish retinas at 42 hpf using the triple transgenic line Tg(ath5:gap-RFP), Tg(crx:gap-CFP), Tg(ptf1a:gal4,UAS:gap-YFP). For each of the 5 replicates, 25 retinas were pooled\"\n\n## Instructions to explore dataset:  \nhttps://github.com/angueyraNIH/drRNAseq\n\n----\n----",
      "metadata": {}
    },
    {
      "cell_type": "markdown",
      "source": "### How to use the notebook\n- To explore the datasets, you will need to run the code in the cells below.  \n- To run a cell, you need to click unto it to select it and press \"Ctrl\"+\"Enter\" or the small *play* symbol in the navigation bar on top of this notebook.  \n- Cells that are currently running display [\\*] on the left.  \n- Cells that have finished running will display a number instead (e.g.[8])\n---\n---\n#### Saving plots:\n- Right click on the image and click on \"Create New View for Output\"\n- Right click on image in Output View panel and click on \"Save As...\"",
      "metadata": {
        "tags": []
      }
    },
    {
      "cell_type": "markdown",
      "source": "#### First: load python environment",
      "metadata": {}
    },
    {
      "cell_type": "code",
      "source": "import pyolite\nprint(\"Successfully loaded pyolite version {0}\".format(pyolite.__version__))",
      "metadata": {
        "trusted": true
      },
      "execution_count": null,
      "outputs": []
    },
    {
      "cell_type": "markdown",
      "source": "#### Second: load all necessary extensions (this may take a few minutes...)",
      "metadata": {}
    },
    {
      "cell_type": "code",
      "source": "print(\"Loading extensions...\")\nimport numpy as np\nimport pandas as pd\nimport matplotlib.pyplot as plt\nimport matplotlib.font_manager as font_manager\nfrom scipy.stats import zscore\nimport os\nimport pyodide\nimport piplite\n\nawait piplite.install('ipywidgets')\nimport ipywidgets\npBGMenu = ipywidgets.Dropdown(options=['Light', 'Dark'],value='Dark',disabled=False, layout=ipywidgets.Layout(width='20%', height='40px'))\npBGLabel = ipywidgets.widgets.Label('Select plotting style', layout=ipywidgets.Layout(width='20%', height='30px'))\npBG = ipywidgets.widgets.VBox([pBGLabel,pBGMenu])\nheatmapNorm = ipywidgets.Checkbox(value=False, description='Heatmap normalization', disabled=False)\n\n\n# Load plotting function\nURL = 'https://raw.githubusercontent.com/angueyraNIH/jupyterLiteDemo/main/content/juanPlot-0a2-py2.py3-none-any.whl'\nawait piplite.install(URL)\nfrom juanPlot import *\nprint(\"Successfully loaded extensions!\")\n\n# load datasets\nprint(\"Loading datasets...\")\nURL = 'https://raw.githubusercontent.com/angueyraNIH/drRNAseq/main/content/data/Nerli2022_42hpfRet.csv'\nzfN = pd.read_csv(pyodide.open_url(URL))\nprint(\"\\t Nerli et al. (2022)\")\n\n\nprint(\"Successfully loaded dataset(s)!\\n\\n\")\n\n# Display selector for plotting background:\npBG",
      "metadata": {
        "trusted": true
      },
      "execution_count": null,
      "outputs": []
    },
    {
      "cell_type": "markdown",
      "source": "#### Define some plotting bases and colors",
      "metadata": {}
    },
    {
      "cell_type": "code",
      "source": "# photoreceptor Colors\npC_42hpf = {\n    'RPC' : '#DADADA', # Retinal progenitor cell\n    'PR' : '#dcc360', # Photoreceptor cell (developing)\n    'HC_AC' : '#3DF591', # Horizontal and Amacrine cell (developing)\n    'RGC' : '#F53D59', # Retinal Ganglion cell (developing)\n}\n\n# default parameters for plotting\nif pBGMenu.value=='Dark':\n    # dark background\n    plt.style.use('dark_background')\n    params = {\"ytick.color\" : \"w\", \"xtick.color\" : \"w\",\n              \"axes.labelcolor\" : \"w\", \"axes.edgecolor\" : \"w\",\n              \"axes.linewidth\" : 3,\n              \"xtick.major.width\" : 3, \"ytick.major.width\" : 3,\n              \"xtick.minor.width\" : 3, \"ytick.minor.width\" : 3,\n              \"xtick.major.size\" : 8, \"ytick.major.size\" : 8,\n              \"xtick.minor.size\" : 8, \"ytick.minor.size\" : 8,\n              \"text.color\" : \"w\"}\n    plt.rcParams.update(params)\n    baseColor = '#ffffff' #white\nelse:\n    # white background\n    plt.style.use('default')\n    params = {\"ytick.color\" : \"k\", \"xtick.color\" : \"k\",\n              \"axes.labelcolor\" : \"k\", \"axes.edgecolor\" : \"k\",\n              \"axes.linewidth\" : 3,\n              \"xtick.major.width\" : 3, \"ytick.major.width\" : 3,\n              \"xtick.minor.width\" : 3, \"ytick.minor.width\" : 3,\n              \"xtick.major.size\" : 8, \"ytick.major.size\" : 8,\n              \"xtick.minor.size\" : 8, \"ytick.minor.size\" : 8,\n              \"text.color\" : \"k\"}\n    plt.rcParams.update(params)\n    baseColor = '#000000' #black\n    \n\n\nprint(\"Plotting style is: {0}\".format(pBGMenu.value))",
      "metadata": {
        "trusted": true
      },
      "execution_count": null,
      "outputs": []
    },
    {
      "cell_type": "markdown",
      "source": "***\n# Index <a id='Index'></a>\n- [Bar plot for single gene: Nerli et al. (2022)](#barPlot42hpf)\n- [Heatmap for gene family: Nerli et al. (2022)](#heatMap42hpf)",
      "metadata": {}
    },
    {
      "cell_type": "markdown",
      "source": "***\n## Bar plot for single gene: provide gene symbol (e.g. '_tbx2a_')<a id='barPlot42hpf'></a>\n***\n[Back to Index](#Index)",
      "metadata": {}
    },
    {
      "cell_type": "code",
      "source": "geneSymbol = 'tbx2b' # replace geneSymbol here and rerun cell to replot\n\nbarData = zfN[zfN['symbol']==geneSymbol] #get data (should add a check here with isin)\nfH, axH = plt.subplots(figsize=(8,6))\npH = plotBars_Nerli2022(barData, geneSymbol, ax=axH, pC=pC_42hpf)\nplt.subplots_adjust(left=0.15, right=.95, top=0.90, bottom=0.1)\nplt.tight_layout()\nplt.show()",
      "metadata": {
        "trusted": true
      },
      "execution_count": null,
      "outputs": []
    },
    {
      "cell_type": "markdown",
      "source": "***\n## HeatMap for gene family: provide gene symbol prefix (e.g. '_opn1_')<a id='heatMap'></a>\n> retrieves all genes whose symbol starts with defined geneSymbol  \n***\n\n[Back to Index](#Index)",
      "metadata": {}
    },
    {
      "cell_type": "code",
      "source": "# display option for heatmap normalization\nheatmapNorm",
      "metadata": {
        "trusted": true
      },
      "execution_count": null,
      "outputs": []
    },
    {
      "cell_type": "code",
      "source": "geneSymbol='meis' # replace geneSymbol here and rerun cell to replot\n\nheatmapDataN = zfN[zfN['symbol'].str.startswith(geneSymbol)]\nheatmapDataN = heatmapDataN.sort_values(by=[\"symbol\"])\nfH, axH = plt.subplots(figsize=(20,(0.5*heatmapDataN.shape[0])+5))\nhmH, cbH = heatmap_Nerli2022(heatmapDataN, pC = pC_42hpf, norm=heatmapNorm.value)\nplt.tight_layout()\nplt.show()",
      "metadata": {
        "trusted": true
      },
      "execution_count": null,
      "outputs": []
    },
    {
      "cell_type": "markdown",
      "source": "***\n## HeatMap for gene list: provide gene symbols separated by \"|\" (e.g. '_tbx2a_|_tbx2b_|_foxq2_')<a id='heatMapList'></a>\n> retrieves all genes in list and creates heatmap  \n***\n\n[Back to Index](#Index)",
      "metadata": {}
    },
    {
      "cell_type": "code",
      "source": "# display option for heatmap normalization\nheatmapNorm",
      "metadata": {
        "trusted": true
      },
      "execution_count": null,
      "outputs": []
    },
    {
      "cell_type": "code",
      "source": "geneSymbol='tbx2a|tbx2b|foxq2' # replace geneSymbol here and rerun cell to replot\n\nheatmapDataN = zfN[zfN['symbol'].str.contains(geneSymbol)]\nheatmapDataN = heatmapDataN.sort_values(by=[\"symbol\"])\nfH, axH = plt.subplots(figsize=(20,(0.5*heatmapDataN.shape[0])+5))\nhmH, cbH = heatmap_Nerli2022(heatmapDataN, pC = pC_42hpf, norm=heatmapNorm.value)\nplt.tight_layout()\nplt.show()",
      "metadata": {
        "trusted": true
      },
      "execution_count": null,
      "outputs": []
    }
  ]
}
