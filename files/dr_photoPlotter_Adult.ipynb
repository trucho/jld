{
  "metadata": {
    "language_info": {
      "codemirror_mode": {
        "name": "python",
        "version": 3
      },
      "file_extension": ".py",
      "mimetype": "text/x-python",
      "name": "python",
      "nbconvert_exporter": "python",
      "pygments_lexer": "ipython3",
      "version": "3.8"
    },
    "kernelspec": {
      "name": "python",
      "display_name": "Pyolite",
      "language": "python"
    }
  },
  "nbformat_minor": 4,
  "nbformat": 4,
  "cells": [
    {
      "cell_type": "markdown",
      "source": "# Explore RNAseq of zebrafish photoreceptors ([Angueyra _et al._, 2021](ampty))",
      "metadata": {}
    },
    {
      "cell_type": "markdown",
      "source": "This notebook can be accessed here:  \n[angueyranih.github.io/drRNAseq/lab](angueyranih.github.io/drRNAseq/lab)  \n\n## Follow instructions below to explore dataset openly available at: https://github.com/angueyraNIH/drRNAseq.  \nAND  \n## Make comparisons with published RNAseq datasets containing zebrafish adult photoreceptors, including:  \n- [Ogawa and Corbo (2021)](https://doi.org/10.1038/s41598-021-96837-z): FACS + 10x from adult rods, cones and bipolar cells  \n- [Hoang _et al._ (2020)](https://doi.org/10.1126/science.abb8598): 10x from whole retina (extracted data from adult photoreceptors and reclustered)  \n- [Sun, Galicia and Stenkamp (2018)](https://doi.org/10.1186/s12864-018-4499-y): FACS + bulk RNAseq from adult rods (GFP+) and other retinal cells (GFP-)  \n----\n----",
      "metadata": {}
    },
    {
      "cell_type": "markdown",
      "source": "### How to use the notebook\n- To explore the datasets, you will need to run the code in the cells below.  \n- To run a cell, you need to click unto it to select it and press \"Ctrl\"+\"Enter\" or the small *play* symbol in the navigation bar on top of this notebook.  \n- Cells that are currently running display [\\*] on the left.  \n- Cells that have finished running will display a number instead (e.g.[8])\n---\n---\n#### Saving plots:\n- Right click on the image and click on \"Create New View for Output\"\n- Right click on image in Output View panel and click on \"Save As...\"",
      "metadata": {
        "tags": []
      }
    },
    {
      "cell_type": "markdown",
      "source": "#### First: load python environment",
      "metadata": {}
    },
    {
      "cell_type": "code",
      "source": "import pyolite\nprint(\"Successfully loaded pyolite version {0}\".format(pyolite.__version__))",
      "metadata": {
        "trusted": true
      },
      "execution_count": null,
      "outputs": []
    },
    {
      "cell_type": "markdown",
      "source": "#### Second: load all necessary extensions (this may take a few minutes...)",
      "metadata": {}
    },
    {
      "cell_type": "code",
      "source": "print(\"Loading extensions...\")\nimport numpy as np\nimport pandas as pd\nimport matplotlib.pyplot as plt\nimport matplotlib.font_manager as font_manager\nfrom scipy.stats import zscore\nimport os\nimport pyodide\nimport piplite\n\nawait piplite.install('ipywidgets')\nimport ipywidgets\npBGMenu = ipywidgets.Dropdown(options=['Light', 'Dark'],value='Dark',disabled=False, layout=ipywidgets.Layout(width='20%', height='40px'))\npBGLabel = ipywidgets.widgets.Label('Select plotting style', layout=ipywidgets.Layout(width='20%', height='30px'))\npBG = ipywidgets.widgets.VBox([pBGLabel,pBGMenu])\nheatmapNorm = ipywidgets.Checkbox(value=False, description='Heatmap normalization', disabled=False)\n\n\n# Load plotting function\nURL = 'https://raw.githubusercontent.com/angueyraNIH/jupyterLiteDemo/main/content/juanPlot-0a2-py2.py3-none-any.whl'\nawait piplite.install(URL)\nfrom juanPlot import *\nprint(\"Successfully loaded extensions!\")\n\n# load datasets\nprint(\"Loading datasets...\")\nURL = 'https://raw.githubusercontent.com/angueyraNIH/drRNAseq/main/content/data/Angueyra2021_Photoreceptors.csv'\ngf = pd.read_csv(pyodide.open_url(URL))\nprint(\"\\t Angueyra et al. (2021)\")\n\nURL = 'https://raw.githubusercontent.com/angueyraNIH/drRNAseq/main/content/data/Ogawa2021_10x_photoreceptors.csv'\nzfO = pd.read_csv(pyodide.open_url(URL))\nprint(\"\\t Ogawa and Corbo (2021)\")\n\nURL = 'https://raw.githubusercontent.com/angueyraNIH/drRNAseq/main/content/data/Hoang2020_10x_photoreceptors.csv'\nzfH = pd.read_csv(pyodide.open_url(URL))\nprint(\"\\t Hoang et al. (2020)\")\n\nURL = 'https://raw.githubusercontent.com/angueyraNIH/drRNAseq/main/content/data/Sun2018_FACS_Rods.csv'\nzfS = pd.read_csv(pyodide.open_url(URL))\nprint(\"\\t Sun, Galicia, Stenkamp (2018)\")\n\nprint(\"Successfully loaded datasets!\\n\\n\")\n\n# Display selector for plotting background:\npBG",
      "metadata": {
        "trusted": true
      },
      "execution_count": null,
      "outputs": []
    },
    {
      "cell_type": "markdown",
      "source": "#### Define some plotting bases and colors",
      "metadata": {}
    },
    {
      "cell_type": "code",
      "source": "# photoreceptor Colors\npC = {\n    'r' : '#747474', # Rods\n    'u' : '#B540B7', # UV cones\n    's' : '#4669F2', # S cones\n    'm' : '#04CD22', # M cones\n    'l' : '#CC2C2A', # L cones\n    'm4': '#cdcd04', # opn1mws4-expressing M cones\n    'onBC': '#ccf2ff', # on bipolar cells\n    'offBC': '#663d00', # off bipolar cells\n    'plt' : '',\n    'zfO': '',\n}\n\n# default parameters for plotting\nif pBGMenu.value=='Dark':\n    # dark background\n    plt.style.use('dark_background')\n    params = {\"ytick.color\" : \"w\", \"xtick.color\" : \"w\",\n              \"axes.labelcolor\" : \"w\", \"axes.edgecolor\" : \"w\",\n             \"axes.linewidth\" : 3,\n             \"xtick.major.width\" : 3, \"ytick.major.width\" : 3,\n             \"xtick.major.size\" : 8, \"ytick.major.size\" : 8,\n             \"text.color\" : \"w\"}\n    plt.rcParams.update(params)\n    baseColor = '#ffffff' #white\nelse:\n    # white background\n    plt.style.use('default')\n    params = {\"ytick.color\" : \"k\", \"xtick.color\" : \"k\",\n              \"axes.labelcolor\" : \"k\", \"axes.edgecolor\" : \"k\",\n             \"axes.linewidth\" : 3,\n             \"xtick.major.width\" : 3, \"ytick.major.width\" : 3,\n             \"xtick.major.size\" : 8, \"ytick.major.size\" : 8,\n             \"text.color\" : \"k\"}\n    plt.rcParams.update(params)\n    baseColor = '#000000' #black\n    \n\n\nprint(\"Plotting style is: {0}\".format(pBGMenu.value))",
      "metadata": {
        "trusted": true
      },
      "execution_count": null,
      "outputs": []
    },
    {
      "cell_type": "markdown",
      "source": "***\n# Index <a id='Index'></a>\n- [Bar plot for single gene: Angueyra et al. (2021)](#barPlot)\n- [heatMap for gene family: Angueyra et al. (2021)](#heatMap)\n- [heatMap for gene list: Angueyra et al. (2021)](#heatMapList)\n- [Bar plot for single gene: across studies](#barPlot_otherStudies)\n- [heatMap for gene family: across studies](#heatMap_otherStudies)\n- [heatMap for gene list: across studies](#heatMapList_otherStudies)",
      "metadata": {}
    },
    {
      "cell_type": "markdown",
      "source": "***\n## Bar plot for single gene: provide gene symbol (e.g. '_tbx2a_')<a id='barPlot'></a>\n***\n[Back to Index](#Index)",
      "metadata": {}
    },
    {
      "cell_type": "code",
      "source": "geneSymbol = 'rho' # replace geneSymbol here and rerun cell to replot\n\nbarData = gf[gf['symbol']==geneSymbol] #get data (should add a check here with isin)\nfH, axH = plt.subplots(figsize=(8,6))\npH = plotBars(barData, geneSymbol, ax=axH, pC=pC)\nplt.subplots_adjust(left=0.15, right=.95, top=0.90, bottom=0.1)\nplt.tight_layout()\nplt.show()",
      "metadata": {
        "trusted": true
      },
      "execution_count": null,
      "outputs": []
    },
    {
      "cell_type": "markdown",
      "source": "***\n## HeatMap for gene family: provide gene symbol prefix (e.g. '_opn1_')<a id='heatMap'></a>\n> retrieves all genes whose symbol starts with defined geneSymbol  \n***\n\n[Back to Index](#Index)",
      "metadata": {}
    },
    {
      "cell_type": "code",
      "source": "# display option for heatmap normalization\nheatmapNorm",
      "metadata": {
        "trusted": true
      },
      "execution_count": null,
      "outputs": []
    },
    {
      "cell_type": "code",
      "source": "geneSymbol='opn' # replace geneSymbol here and rerun cell to replot\n\nheatmapData = gf[gf['symbol'].str.startswith(geneSymbol)]\nheatmapData = heatmapData.sort_values(by=[\"symbol\"])\nfH, axH = plt.subplots(figsize=(20,(0.5*heatmapData.shape[0])+4))\nhmH, cbH = heatmap(heatmapData, pC = pC, norm=heatmapNorm.value)\nplt.tight_layout()\nplt.show()",
      "metadata": {
        "trusted": true
      },
      "execution_count": null,
      "outputs": []
    },
    {
      "cell_type": "markdown",
      "source": "***\n## HeatMap for gene list: provide gene symbols separated by \"|\" (e.g. '_tbx2a_|_tbx2b_|_foxq2_')<a id='heatMapList'></a>\n> retrieves all genes in list and creates heatmap  \n***\n\n[Back to Index](#Index)",
      "metadata": {}
    },
    {
      "cell_type": "code",
      "source": "# display option for heatmap normalization\nheatmapNorm",
      "metadata": {
        "trusted": true
      },
      "execution_count": null,
      "outputs": []
    },
    {
      "cell_type": "code",
      "source": "geneSymbol='tbx2a|tbx2b|foxq2' # replace geneSymbol here and rerun cell to replot\n\nheatmapData = gf[gf['symbol'].str.contains(geneSymbol)]\nheatmapData = heatmapData.sort_values(by=[\"symbol\"])\nfH, axH = plt.subplots(figsize=(20,(0.5*heatmapData.shape[0])+4))\nhmH, cbH = heatmap(heatmapData, pC = pC, norm=heatmapNorm.value)\nplt.tight_layout()\nplt.show()",
      "metadata": {
        "trusted": true
      },
      "execution_count": null,
      "outputs": []
    },
    {
      "cell_type": "markdown",
      "source": "***\n## Bar plots for single gene across studies: provide gene symbol (e.g. '_foxq2_')<a id='barPlot_otherStudies'></a>\n***\n[Back to Index](#Index)",
      "metadata": {}
    },
    {
      "cell_type": "code",
      "source": "geneSymbol = 'rho' # replace geneSymbol here and rerun cell to replot\n\nbarData = gf[gf['symbol']==geneSymbol] # get data\nbarDataO = zfO[zfO['symbol']==geneSymbol] #get data\nbarDataH = zfH[zfH['symbol']==geneSymbol] #get data\nbarDataS = zfS[zfS['symbol']==geneSymbol] #get data\nfH, axH = plt.subplots(4,2,figsize=(7*2,6*4))\npH0 = plotBars(barData, geneSymbol, ax=axH[0,0], pC=pC)\nplt.figtext(0.53,0.88,\"Angueyra et al. (2021)\", va=\"center\", ha=\"center\", rotation= 270, size=12)\npH1 = plotBars_Ogawa2021(barDataO, geneSymbol, axH[1,0], pC, pctPlot=False)\npH2 = plotBars_Ogawa2021(barDataO, geneSymbol, axH[1,1], pC, pctPlot=True)\nplt.figtext(0.98,0.62,\"Ogawa and Corbo (2021)\", va=\"center\", ha=\"center\", rotation= 270, size=12)\npH3 = plotBars_Hoang2020(barDataH, geneSymbol, axH[2,0], pC, pctPlot=False)\npH4 = plotBars_Hoang2020(barDataH, geneSymbol, axH[2,1], pC, pctPlot=True)\nplt.figtext(0.98,0.38,\"Hoang et al. (2020)\", va=\"center\", ha=\"center\", rotation= 270, size=12)\npH5 = plotBars_Sun2018(barDataS, geneSymbol, axH[3,0], pC)\naxH[0,1].remove()\naxH[3,1].remove()\nplt.figtext(0.50,0.12,\"Sun, Galicia and Stenkamp (2018)\", va=\"center\", ha=\"center\", rotation= 270, size=12)\nplt.tight_layout()\nplt.show()",
      "metadata": {
        "trusted": true
      },
      "execution_count": null,
      "outputs": []
    },
    {
      "cell_type": "markdown",
      "source": "***\n## HeatMap for gene family across studies: provide gene symbol prefix (e.g. '_tbx_')<a id='heatMap_otherStudies'></a>\n> retrieves all genes whose symbol starts with defined geneSymbol  \n***\n\n[Back to Index](#Index)",
      "metadata": {
        "tags": []
      }
    },
    {
      "cell_type": "code",
      "source": "# display option for normalization\nheatmapNorm",
      "metadata": {
        "trusted": true
      },
      "execution_count": null,
      "outputs": []
    },
    {
      "cell_type": "code",
      "source": "geneSymbol='tbx' # replace geneSymbol here and rerun cell to replot\n\nheatmapData = gf[gf['symbol'].str.startswith(geneSymbol)]\nheatmapData = heatmapData.sort_values(by=[\"symbol\"])\nheatmapDataO = zfO[zfO['symbol'].str.startswith(geneSymbol)]\nheatmapDataO = heatmapDataO.sort_values(by=[\"symbol\"])\nheatmapDataH = zfH[zfH['symbol'].str.startswith(geneSymbol)]\nheatmapDataH = heatmapDataH.sort_values(by=[\"symbol\"])\nheatmapDataS = zfS[zfS['symbol'].str.startswith(geneSymbol)]\nheatmapDataS = heatmapDataS.sort_values(by=[\"symbol\"])\n\n\nfH, axH = plt.subplots(figsize=(20,(heatmapDataO.shape[0])+4))\nhm, cb = heatmap(heatmapData, pC=pC, norm=heatmapNorm.value)\nplt.figtext(0.98,0.015,\"Angueyra et al. (2021)\", va=\"center\", ha=\"right\", rotation= 0, size=12)\nplt.tight_layout()\nplt.show()\nfH, axHO = plt.subplots(figsize=(16,(heatmapDataO.shape[0])+6))\nhmO, cbO = heatmap_Ogawa2021(heatmapDataO, pC=pC, pctPlot=False, norm=heatmapNorm.value)\nplt.figtext(0.98,0.015,\"Ogawa and Corbo (2021)\", va=\"center\", ha=\"right\", rotation= 0, size=12)\nplt.tight_layout()\nplt.show()\nfH, axHH = plt.subplots(figsize=(14,(heatmapDataH.shape[0])+6))\nhmH, cbH = heatmap_Hoang2020(heatmapDataH, pC=pC, pctPlot=False, norm=heatmapNorm.value)\nplt.figtext(0.98,0.015,\"Hoang et al. (2020)\", va=\"center\", ha=\"right\", rotation= 0, size=12)\nplt.tight_layout()\nplt.show()\nfH, axHS = plt.subplots(figsize=(14,(heatmapDataS.shape[0])+6))\nhmS, cbS = heatmap_Sun2018(heatmapDataS, pC=pC, norm=heatmapNorm.value)\nplt.figtext(0.98,0.015,\"Sun, Galicia and Stenkamp (2018)\", va=\"center\", ha=\"right\", rotation= 0, size=12)\nplt.tight_layout()\nplt.show()\n",
      "metadata": {
        "trusted": true
      },
      "execution_count": null,
      "outputs": []
    },
    {
      "cell_type": "markdown",
      "source": "***\n## HeatMap for gene list across studies: provide gene symbol separated by \"|\" (e.g. '_tbx2a_|_tbx2b_|_foxq2_')<a id='heatMapList_otherStudies'></a>\n> retrieves all genes in list and creates heatmap  \n***\n\n[Back to Index](#Index)",
      "metadata": {
        "tags": []
      }
    },
    {
      "cell_type": "code",
      "source": "# display option for normalization\nheatmapNorm",
      "metadata": {
        "trusted": true
      },
      "execution_count": null,
      "outputs": []
    },
    {
      "cell_type": "code",
      "source": "geneSymbol='tbx2a|tbx2b|foxq2' # replace geneSymbol here and rerun cell to replot\n\nheatmapData = gf[gf['symbol'].str.contains(geneSymbol)]\nheatmapData = heatmapData.sort_values(by=[\"symbol\"])\nheatmapDataO = zfO[zfO['symbol'].str.contains(geneSymbol)]\nheatmapDataO = heatmapDataO.sort_values(by=[\"symbol\"])\nheatmapDataH = zfH[zfH['symbol'].str.contains(geneSymbol)]\nheatmapDataH = heatmapDataH.sort_values(by=[\"symbol\"])\nheatmapDataS = zfS[zfS['symbol'].str.contains(geneSymbol)]\nheatmapDataS = heatmapDataS.sort_values(by=[\"symbol\"])\n\nfH, axH = plt.subplots(figsize=(20,(heatmapDataO.shape[0])+4))\nhm, cb = heatmap(heatmapData, pC=pC, norm=heatmapNorm.value)\nplt.figtext(0.98,0.015,\"Angueyra et al. (2021)\", va=\"center\", ha=\"right\", rotation= 0, size=12)\nplt.tight_layout()\nplt.show()\nfH, axHO = plt.subplots(figsize=(16,(heatmapDataO.shape[0])+6))\nhmO, cbO = heatmap_Ogawa2021(heatmapDataO, pC=pC, pctPlot=False, norm=heatmapNorm.value)\nplt.figtext(0.98,0.015,\"Ogawa and Corbo (2021)\", va=\"center\", ha=\"right\", rotation= 0, size=12)\nplt.tight_layout()\nplt.show()\nfH, axHH = plt.subplots(figsize=(14,(heatmapDataH.shape[0])+6))\nhmH, cbH = heatmap_Hoang2020(heatmapDataH, pC=pC, pctPlot=False, norm=heatmapNorm.value)\nplt.figtext(0.98,0.015,\"Hoang et al. (2020)\", va=\"center\", ha=\"right\", rotation= 0, size=12)\nplt.tight_layout()\nplt.show()\nfH, axHS = plt.subplots(figsize=(14,(heatmapDataS.shape[0])+6))\nhmS, cbS = heatmap_Sun2018(heatmapDataS, pC=pC, norm=heatmapNorm.value)\nplt.figtext(0.98,0.015,\"Sun, Galicia and Stenkamp (2018)\", va=\"center\", ha=\"right\", rotation= 0, size=12)\nplt.tight_layout()\nplt.show()",
      "metadata": {
        "trusted": true
      },
      "execution_count": null,
      "outputs": []
    },
    {
      "cell_type": "code",
      "source": "",
      "metadata": {},
      "execution_count": null,
      "outputs": []
    }
  ]
}